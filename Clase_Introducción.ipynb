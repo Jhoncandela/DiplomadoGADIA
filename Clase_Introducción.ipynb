{
  "nbformat": 4,
  "nbformat_minor": 0,
  "metadata": {
    "colab": {
      "provenance": []
    },
    "kernelspec": {
      "name": "python3",
      "display_name": "Python 3"
    },
    "language_info": {
      "name": "python"
    }
  },
  "cells": [
    {
      "cell_type": "code",
      "execution_count": null,
      "metadata": {
        "id": "nGLAnQUnosa_"
      },
      "outputs": [],
      "source": []
    },
    {
      "cell_type": "markdown",
      "source": [
        "**INTRODUCCION A PYTHON**\n",
        "\n",
        "DIPLOMADO EN GOBIERMO Y ANALITICA DE DATOS\n",
        "\n",
        "FUNDACIÓN UNIVERSITARIA CAFAM\n",
        "\n",
        "\n",
        "DOCENTE NICOLAS MOJICA GOMEZ\n",
        "\n",
        "\n",
        "ESTUDIANTE JHON ALEXANDER CANDELA NEZ\n",
        "\n",
        "\n",
        "\n",
        "---\n",
        "\n"
      ],
      "metadata": {
        "id": "QgjdrAo7qJSm"
      }
    },
    {
      "cell_type": "markdown",
      "source": [
        "## 1. COMENTARIOS EN LOS CODIGOS\n",
        "\n",
        "Para comentar codigos en python existen diferentes formas de crear comentarios esto nos permite comentar nuestros secuencias de comandos para un analisis o posterioir modificascion"
      ],
      "metadata": {
        "id": "1NGJUsKdrtC5"
      }
    },
    {
      "cell_type": "code",
      "source": [
        "#ESTE COMENTARIO ES DE UNA SOLA LINEA\n",
        "#python es un progrma es sebsible a las mayusculas y a las minisulas\n",
        "print (\"Hola mundo\")"
      ],
      "metadata": {
        "colab": {
          "base_uri": "https://localhost:8080/"
        },
        "id": "Jg2CeYperfQJ",
        "outputId": "77eca222-5ada-4239-c56e-87f7a9cd0213"
      },
      "execution_count": 22,
      "outputs": [
        {
          "output_type": "stream",
          "name": "stdout",
          "text": [
            "Hola mundo\n"
          ]
        }
      ]
    },
    {
      "cell_type": "code",
      "source": [
        "'''\n",
        "este es un comentario de multples lineas\n",
        "puede estenderse en varias lineas\n",
        "'''\n",
        "print(\"Hola mundo 2\")"
      ],
      "metadata": {
        "colab": {
          "base_uri": "https://localhost:8080/"
        },
        "id": "0puAhDMEvkA8",
        "outputId": "5c39f3db-ce12-4d1b-9253-8bd1450cd0ef"
      },
      "execution_count": 9,
      "outputs": [
        {
          "output_type": "stream",
          "name": "stdout",
          "text": [
            "Hola mundo 2\n"
          ]
        }
      ]
    },
    {
      "cell_type": "markdown",
      "source": [
        "## 2. variables\n",
        "\n",
        "Una variable es un elemento de un lenguaje de programacion que tiene asignado un valor determinado"
      ],
      "metadata": {
        "id": "jOR0bFnywUFN"
      }
    },
    {
      "cell_type": "code",
      "source": [
        "##Para crear una variable en Python, se le debe proporcionar un nombre y se le debe asignar un valor usando un \"=\"\n",
        "var=\"Hola mundo\"\n",
        "print(var)"
      ],
      "metadata": {
        "colab": {
          "base_uri": "https://localhost:8080/"
        },
        "id": "gt1ecWv8xWFo",
        "outputId": "aa559261-3b87-47c5-bc38-28fde9652bc3"
      },
      "execution_count": 7,
      "outputs": [
        {
          "output_type": "stream",
          "name": "stdout",
          "text": [
            "Hola mundo\n"
          ]
        }
      ]
    },
    {
      "cell_type": "code",
      "source": [
        "## Las variables pueden cambiar a lo largo del programa\n",
        "var=\"Adios mundo\"\n",
        "print(var)"
      ],
      "metadata": {
        "colab": {
          "base_uri": "https://localhost:8080/"
        },
        "id": "HDEg34ppx9nY",
        "outputId": "e03ffb0b-9d6a-4530-a3f7-52cccad66ba5"
      },
      "execution_count": 8,
      "outputs": [
        {
          "output_type": "stream",
          "name": "stdout",
          "text": [
            "Adios mundo\n"
          ]
        }
      ]
    },
    {
      "cell_type": "markdown",
      "source": [
        "3. TIPOS DE DATOS"
      ],
      "metadata": {
        "id": "NaY6cRgo7PkK"
      }
    },
    {
      "cell_type": "code",
      "source": [
        "#TIPOS DE DATOS NUMERICOS\n",
        "entero=42\n",
        "#en la mayor parte de lenguajes de programacion los enteros son representados con \"Int\""
      ],
      "metadata": {
        "id": "wu37x7yH7hsv"
      },
      "execution_count": 10,
      "outputs": []
    },
    {
      "cell_type": "code",
      "source": [
        "#tipos de datos flotantes\n",
        "flotante=3.14151"
      ],
      "metadata": {
        "id": "xfwuU8EZ759J"
      },
      "execution_count": 11,
      "outputs": []
    },
    {
      "cell_type": "code",
      "source": [
        "#Conversión de los tipos de datos\n",
        "#Convertir un flotante en un numero entero\n",
        "entero=int(3.14)\n",
        "print(entero)"
      ],
      "metadata": {
        "colab": {
          "base_uri": "https://localhost:8080/"
        },
        "id": "CNW7VHXJ8Fpa",
        "outputId": "634ed152-2d18-4e75-d6b0-3357d793e12c"
      },
      "execution_count": 12,
      "outputs": [
        {
          "output_type": "stream",
          "name": "stdout",
          "text": [
            "3\n"
          ]
        }
      ]
    },
    {
      "cell_type": "code",
      "source": [
        "#Convertir entero a flotante\n",
        "flotante=float(5)\n",
        "print(flotante)"
      ],
      "metadata": {
        "colab": {
          "base_uri": "https://localhost:8080/"
        },
        "id": "3AJ9Eewf8YaB",
        "outputId": "319be32f-de4f-4956-a90e-919896dd712e"
      },
      "execution_count": 13,
      "outputs": [
        {
          "output_type": "stream",
          "name": "stdout",
          "text": [
            "5.0\n"
          ]
        }
      ]
    },
    {
      "cell_type": "markdown",
      "source": [
        "## 4. Operadores matematicos\n",
        "\n",
        "Los operadores matematicos se utilizan para realizar operaciones comunes como la adicción, sustracción, multiplicación, etc...\n"
      ],
      "metadata": {
        "id": "lWOknCkp8lRf"
      }
    },
    {
      "cell_type": "code",
      "source": [
        "# Suma\n",
        "a=10\n",
        "b=5\n",
        "print(a+b)"
      ],
      "metadata": {
        "colab": {
          "base_uri": "https://localhost:8080/"
        },
        "id": "7Vk3uvON8uJm",
        "outputId": "52da5d2f-06d0-4ded-ad70-b3079a1d31d7"
      },
      "execution_count": 14,
      "outputs": [
        {
          "output_type": "stream",
          "name": "stdout",
          "text": [
            "15\n"
          ]
        }
      ]
    },
    {
      "cell_type": "code",
      "source": [
        "# Resta\n",
        "c=a-b\n",
        "print(c)"
      ],
      "metadata": {
        "colab": {
          "base_uri": "https://localhost:8080/"
        },
        "id": "cZLd6fdv85tW",
        "outputId": "70fd0df9-3343-4a02-b0c3-b712d5ac9fff"
      },
      "execution_count": 16,
      "outputs": [
        {
          "output_type": "stream",
          "name": "stdout",
          "text": [
            "5\n"
          ]
        }
      ]
    },
    {
      "cell_type": "code",
      "source": [
        "# Muntiplicación\n",
        "d= a*b\n",
        "print(d)"
      ],
      "metadata": {
        "colab": {
          "base_uri": "https://localhost:8080/"
        },
        "id": "bL4KgW6J9NOw",
        "outputId": "c8c64191-0f50-4fdf-e039-72e4bc739faa"
      },
      "execution_count": 17,
      "outputs": [
        {
          "output_type": "stream",
          "name": "stdout",
          "text": [
            "50\n"
          ]
        }
      ]
    },
    {
      "cell_type": "code",
      "source": [
        "# División\n",
        "e=a/b\n",
        "print(e)"
      ],
      "metadata": {
        "colab": {
          "base_uri": "https://localhost:8080/"
        },
        "id": "C84bIP3_9Xq6",
        "outputId": "3bac5143-b337-41b5-d03a-92104a80d2b3"
      },
      "execution_count": 21,
      "outputs": [
        {
          "output_type": "stream",
          "name": "stdout",
          "text": [
            "2.0\n"
          ]
        }
      ]
    },
    {
      "cell_type": "code",
      "source": [
        "# División entera\n",
        "print(a//b)"
      ],
      "metadata": {
        "colab": {
          "base_uri": "https://localhost:8080/"
        },
        "id": "rgxs5EiEA1Hn",
        "outputId": "9c78bf2d-0766-4a18-b482-e22423107f5f"
      },
      "execution_count": 23,
      "outputs": [
        {
          "output_type": "stream",
          "name": "stdout",
          "text": [
            "2\n"
          ]
        }
      ]
    },
    {
      "cell_type": "code",
      "source": [
        "# Modulo residuo de una operación\n",
        "print(a%b)\n"
      ],
      "metadata": {
        "colab": {
          "base_uri": "https://localhost:8080/"
        },
        "id": "1mqs53V9BDQE",
        "outputId": "8fc66254-909a-41aa-d1d8-f5552e6951c1"
      },
      "execution_count": 25,
      "outputs": [
        {
          "output_type": "stream",
          "name": "stdout",
          "text": [
            "0\n"
          ]
        }
      ]
    },
    {
      "cell_type": "code",
      "source": [
        "# Exponenciación\n",
        "print(a**b)"
      ],
      "metadata": {
        "colab": {
          "base_uri": "https://localhost:8080/"
        },
        "id": "vzI5Df2PBgS0",
        "outputId": "17b2729a-2604-4db1-b2c1-7c92bcc9084e"
      },
      "execution_count": 26,
      "outputs": [
        {
          "output_type": "stream",
          "name": "stdout",
          "text": [
            "100000\n"
          ]
        }
      ]
    },
    {
      "cell_type": "code",
      "source": [
        "#Asignación compuesta\n",
        "a+=b\n",
        "print(a)"
      ],
      "metadata": {
        "colab": {
          "base_uri": "https://localhost:8080/"
        },
        "id": "iHADj260Btkd",
        "outputId": "b1d8da8b-e61a-4fa9-fe7e-1d88b6d9483a"
      },
      "execution_count": 27,
      "outputs": [
        {
          "output_type": "stream",
          "name": "stdout",
          "text": [
            "15\n"
          ]
        }
      ]
    },
    {
      "cell_type": "code",
      "source": [
        "print(a)"
      ],
      "metadata": {
        "colab": {
          "base_uri": "https://localhost:8080/"
        },
        "id": "ExzRSfKpCXKC",
        "outputId": "9ecd1edc-c64e-41ce-c75b-4139a360bfbb"
      },
      "execution_count": 28,
      "outputs": [
        {
          "output_type": "stream",
          "name": "stdout",
          "text": [
            "15\n"
          ]
        }
      ]
    },
    {
      "cell_type": "code",
      "source": [
        "a-=b\n",
        "print(a)"
      ],
      "metadata": {
        "colab": {
          "base_uri": "https://localhost:8080/"
        },
        "id": "MOmiy9v3CZcH",
        "outputId": "9af92fbd-3028-4977-dbf4-f8bc99bcda80"
      },
      "execution_count": 29,
      "outputs": [
        {
          "output_type": "stream",
          "name": "stdout",
          "text": [
            "10\n"
          ]
        }
      ]
    },
    {
      "cell_type": "code",
      "source": [
        "a-b\n",
        "print(a)"
      ],
      "metadata": {
        "colab": {
          "base_uri": "https://localhost:8080/"
        },
        "id": "zNKn5sLGCgMs",
        "outputId": "4fc6d3fd-53e9-49a8-b64c-5d45081fba7d"
      },
      "execution_count": 30,
      "outputs": [
        {
          "output_type": "stream",
          "name": "stdout",
          "text": [
            "10\n"
          ]
        }
      ]
    },
    {
      "cell_type": "code",
      "source": [
        "#redondeo\n",
        "var4=3.1410\n",
        "print(round(var4,2))\n"
      ],
      "metadata": {
        "colab": {
          "base_uri": "https://localhost:8080/"
        },
        "id": "zq3goMgBC-rS",
        "outputId": "fbad8ab0-d0b3-49f7-8e6a-ae29833b1e5b"
      },
      "execution_count": 32,
      "outputs": [
        {
          "output_type": "stream",
          "name": "stdout",
          "text": [
            "3.14\n"
          ]
        }
      ]
    },
    {
      "cell_type": "code",
      "source": [],
      "metadata": {
        "id": "BiW7R3M8DXFN"
      },
      "execution_count": null,
      "outputs": []
    }
  ]
}