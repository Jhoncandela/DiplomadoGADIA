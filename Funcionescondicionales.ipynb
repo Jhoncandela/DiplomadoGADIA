{
  "nbformat": 4,
  "nbformat_minor": 0,
  "metadata": {
    "colab": {
      "provenance": [],
      "authorship_tag": "ABX9TyOwCG2R0Rllie0BPvm6Yyek",
      "include_colab_link": true
    },
    "kernelspec": {
      "name": "python3",
      "display_name": "Python 3"
    },
    "language_info": {
      "name": "python"
    }
  },
  "cells": [
    {
      "cell_type": "markdown",
      "metadata": {
        "id": "view-in-github",
        "colab_type": "text"
      },
      "source": [
        "<a href=\"https://colab.research.google.com/github/Jhoncandela/DiplomadoGADIA/blob/main/Funcionescondicionales.ipynb\" target=\"_parent\"><img src=\"https://colab.research.google.com/assets/colab-badge.svg\" alt=\"Open In Colab\"/></a>"
      ]
    },
    {
      "cell_type": "markdown",
      "source": [
        "CONDICIONALES, FUNCIONES Y MANEJO DE ERRORES\n",
        "\n",
        "\n",
        "DIPLOMADO EN GOBIERMO Y ANALITICA DE DATOS\n",
        "\n",
        "FUNDACIÓN UNIVERSITARIA CAFAM\n",
        "\n",
        "DOCENTE NICOLAS MOJICA GOMEZ\n",
        "\n",
        "ESTUDIANTE JHON ALEXANDER CANDELA NE\n",
        "\n",
        "```\n",
        "# Tiene formato de código\n",
        "```\n",
        "\n"
      ],
      "metadata": {
        "id": "O1Zm4GcCbJzs"
      }
    },
    {
      "cell_type": "code",
      "source": [
        "##LAS CONDICIONALES EN PYTHON PERMITEN TOMAR DECISIONES BASADAS EN CIERTAS DESICIONES, SON FUNDAMENTALES PARA CONTROLAR EL FLUJO DE EJECUCIÓN\n",
        "\n",
        "edad=18\n",
        "#crear una condicinal donde se identifique si la persona es mayor de edad\n",
        "if edad < 18 :\n",
        "  print(\"eres menor de edad\")\n",
        "else:\n",
        "  print(\"eres mayor de edad\")"
      ],
      "metadata": {
        "colab": {
          "base_uri": "https://localhost:8080/"
        },
        "id": "oYDq12gEbbrN",
        "outputId": "0fe1b51b-b6ed-48ef-80b2-77a9213747ad"
      },
      "execution_count": null,
      "outputs": [
        {
          "output_type": "stream",
          "name": "stdout",
          "text": [
            "eres mayor de edad\n"
          ]
        }
      ]
    },
    {
      "cell_type": "code",
      "source": [
        "#generar un programa que clasifique la edad introducida por el usuario entre mayor y menor de de edad\n",
        "edad= int(input(\"Por favor ingresa tu edad: \"))\n",
        "if edad < 18 :\n",
        "  print(\"eres menor de edad \")\n",
        "else:\n",
        "  print(\"eres mayor de edad\")"
      ],
      "metadata": {
        "colab": {
          "base_uri": "https://localhost:8080/"
        },
        "id": "l_z32FtpbqsM",
        "outputId": "d09e60f9-05a4-4b02-8498-9566357490b6"
      },
      "execution_count": null,
      "outputs": [
        {
          "output_type": "stream",
          "name": "stdout",
          "text": [
            "Por favor ingresa tu edad: 34\n",
            "eres mayor de edad\n"
          ]
        }
      ]
    },
    {
      "cell_type": "code",
      "source": [
        "#genere un programa que al ingresar la nota del usuario lo clasifique en:\n",
        "#No aprobado <60\n",
        "#calificacion A >=90\n",
        "#clasificacion B >=80\n",
        "#otros clasificacion C\n",
        "nota= int(input(\"Ingresen nota\"))\n",
        "if nota>=60:\n",
        "  if nota>=90:\n",
        "    print(\"clasificacion A\")\n",
        "  elif nota >=80 :\n",
        "    print(\"clasificacion B\")\n",
        "  else  :\n",
        "    print(\"clasificacion C\")\n",
        "else :\n",
        "  print(\"No aprobado\")\n",
        "\n",
        "\n"
      ],
      "metadata": {
        "colab": {
          "base_uri": "https://localhost:8080/"
        },
        "id": "nz9v6SBkez3t",
        "outputId": "5aadd9e4-8578-48f3-f6ca-6ebdf2e8f375"
      },
      "execution_count": null,
      "outputs": [
        {
          "output_type": "stream",
          "name": "stdout",
          "text": [
            "Ingresen nota81\n",
            "clasificacion B\n"
          ]
        }
      ]
    },
    {
      "cell_type": "code",
      "source": [
        "\"\"\"\n",
        "Comparaciones\n",
        "Las condiciones en las sentencias condicionales suelen involucrar operadores de comparación:\n",
        "\n",
        "- == (igual a)\n",
        "- != (diferente de)\n",
        "- > (mayor que)\n",
        "- < (menor que)\n",
        "- >= (mayor o igual que)\n",
        "- <= (menor o igual que)\n",
        "\"\"\""
      ],
      "metadata": {
        "colab": {
          "base_uri": "https://localhost:8080/",
          "height": 53
        },
        "id": "ZbxVVleLhU-2",
        "outputId": "367d2657-d04d-4578-fcd4-237c1da7f934"
      },
      "execution_count": null,
      "outputs": [
        {
          "output_type": "execute_result",
          "data": {
            "text/plain": [
              "'\\nComparaciones\\nLas condiciones en las sentencias condicionales suelen involucrar operadores de comparación:\\n \\n- == (igual a)\\n- != (diferente de)\\n- > (mayor que)\\n- < (menor que)\\n- >= (mayor o igual que)\\n- <= (menor o igual que)\\n'"
            ],
            "application/vnd.google.colaboratory.intrinsic+json": {
              "type": "string"
            }
          },
          "metadata": {},
          "execution_count": 12
        }
      ]
    },
    {
      "cell_type": "code",
      "source": [
        "#Hallar el numero par o impar\n",
        "nota= int(input(\"Ingresen nota\"))\n",
        "if nota%2==0:\n",
        "  print(\"es par\")\n",
        "else :\n",
        "  print(\"Es impar\")"
      ],
      "metadata": {
        "colab": {
          "base_uri": "https://localhost:8080/"
        },
        "id": "OIpjkN2yid13",
        "outputId": "224333f7-f34e-45d8-8aee-316889df5a6c"
      },
      "execution_count": null,
      "outputs": [
        {
          "output_type": "stream",
          "name": "stdout",
          "text": [
            "Ingresen nota5\n",
            "Es impar\n"
          ]
        }
      ]
    },
    {
      "cell_type": "code",
      "source": [
        "#Crea un programa que lea dos números y determine cuál es mayor, cuál es menor o si ambos son iguales.\n",
        "numero1 = float(input(\"Ingrese el primer número: \"))\n",
        "numero2 = float(input(\"Ingrese el segundo número: \"))\n",
        "\n",
        "if numero1 > numero2:\n",
        "        print(f\"El número {numero1} es mayor que {numero2}.\")\n",
        "elif numero1 < numero2:\n",
        "        print(f\"El número {numero2} es mayor que {numero1}.\")\n",
        "else:\n",
        "        print(\"Ambos números son iguales.\")"
      ],
      "metadata": {
        "colab": {
          "base_uri": "https://localhost:8080/"
        },
        "id": "nFTaZYzvjpxW",
        "outputId": "9048ab27-1c0a-4636-f6c6-2ece4b1cd6fb"
      },
      "execution_count": null,
      "outputs": [
        {
          "output_type": "stream",
          "name": "stdout",
          "text": [
            "Ingrese el primer número: 4\n",
            "Ingrese el segundo número: 5\n",
            "El número 5.0 es mayor que 4.0.\n"
          ]
        }
      ]
    },
    {
      "cell_type": "code",
      "source": [
        "#Crea un programa que lea dos números y determine cuál es mayor, cuál es menor o si ambos son iguales por el profe\n",
        "num1 = int(input(\"-> Ingrese el primer número: \"))\n",
        "num2 = int(input(\"-> Ingrese el segundo número: \"))\n",
        "\n",
        "if num1 != num2:\n",
        "\n",
        "  if num1 > num2:\n",
        "    print(f\"// el numero mayor es: {num1}\")\n",
        "  else:\n",
        "    print(f\"// el numero mayor es: {num2}\")\n",
        "\n",
        "else:\n",
        "  print(\"// Los dos números son iguales. \")"
      ],
      "metadata": {
        "colab": {
          "base_uri": "https://localhost:8080/"
        },
        "id": "ZQYnFei9lSRz",
        "outputId": "96283b57-ddd4-4f20-d87f-8a8adf321ad9"
      },
      "execution_count": null,
      "outputs": [
        {
          "output_type": "stream",
          "name": "stdout",
          "text": [
            "-> Ingrese el primer número: 4\n",
            "-> Ingrese el segundo número: 5\n",
            "// el numero myor es: 5\n"
          ]
        }
      ]
    },
    {
      "cell_type": "code",
      "source": [
        "#Escribe un programa que clasifique la edad en diferentes categorías: Niño (0-12 años), Adolescente (13-17 años), Adulto (18-64 años) y Anciano (65 años o más).\n",
        "\n",
        "nota = int(input(\"ingresa tu edad \"))\n",
        "\n",
        "if edad < 0:\n",
        "  print(\"La edad no puede ser negativa. Por favor, ingrese un número válido.\")\n",
        "elif 0 <= edad <= 12:\n",
        "  print(\"Niño\")\n",
        "elif 13 <= edad <= 17:\n",
        "  print(\"Adolescente\")\n",
        "elif 18 <= edad <= 64:\n",
        "  print(\"Adulto\")\n",
        "elif edad >= 65:\n",
        "  print(\"Anciano\")\n",
        "\n"
      ],
      "metadata": {
        "colab": {
          "base_uri": "https://localhost:8080/"
        },
        "id": "IZwof8N2qMWz",
        "outputId": "4eb09e09-e554-4c5d-d618-d24a882fb9b6"
      },
      "execution_count": null,
      "outputs": [
        {
          "output_type": "stream",
          "name": "stdout",
          "text": [
            "ingresa tu edad 67\n",
            "Adulto\n"
          ]
        }
      ]
    },
    {
      "cell_type": "code",
      "source": [],
      "metadata": {
        "id": "oE4aMNb2t1KY"
      },
      "execution_count": null,
      "outputs": []
    },
    {
      "cell_type": "markdown",
      "source": [
        "#Funciones\n",
        "##son bloques de codigos en python que se pueden utilizar para hacer una tarea en especifico\n"
      ],
      "metadata": {
        "id": "K2SC4MJvt5zP"
      }
    },
    {
      "cell_type": "code",
      "source": [
        "#tengo la funcion y =mx+b\n",
        "#Deseo evaluar el valor de x=5en la funcion y=4x+7\n",
        "def funtion_lineal(x) :\n",
        "    variable = x\n",
        "    y=(4*variable)+7\n",
        "    z=print(f\"El valor de y  es: {y}.\")\n",
        "    return z\n",
        "print(funtion_lineal(5))"
      ],
      "metadata": {
        "colab": {
          "base_uri": "https://localhost:8080/"
        },
        "id": "HevZCB2Vt6p8",
        "outputId": "5fa746f3-a3f8-4854-fef9-4291a7a19e3e"
      },
      "execution_count": null,
      "outputs": [
        {
          "output_type": "stream",
          "name": "stdout",
          "text": [
            "El valor de y  es: 27.\n",
            "None\n"
          ]
        }
      ]
    },
    {
      "cell_type": "code",
      "source": [
        "#funcion de dos variables\n",
        "def suma(a,b) :\n",
        "  return a+b\n",
        "print(suma(2,2))\n"
      ],
      "metadata": {
        "colab": {
          "base_uri": "https://localhost:8080/"
        },
        "id": "l18V1DmizTJE",
        "outputId": "a4c226c9-273c-48af-9674-8234ce6a1f4d"
      },
      "execution_count": null,
      "outputs": [
        {
          "output_type": "stream",
          "name": "stdout",
          "text": [
            "4\n"
          ]
        }
      ]
    },
    {
      "cell_type": "code",
      "source": [
        "#Escribe una función que reciba la edad de una persona como parámetro y determine si la persona es mayor de edad (18 años o más) o menor de edad.\n",
        "def verificar_mayoria_edad(edad):\n",
        "    if edad < 0:\n",
        "        print (\"Edad no válida\")\n",
        "    elif edad >= 18:\n",
        "        print(\"Eres mayor de edad.\")\n",
        "    else:\n",
        "        print(\"Eres menor de edad.\")\n",
        "\n",
        "# Ejemplo de uso\n",
        "edad = int(input(\"Ingresa tu edad: \"))\n",
        "verificar_mayoria_edad(edad)\n",
        "\n",
        "#Con Returns\n",
        "def verificar_mayoria_edad(edad):\n",
        "    if edad < 0:\n",
        "        return \"Edad no válida\"\n",
        "    elif edad >= 18:\n",
        "        return \"Eres mayor de edad.\"\n",
        "    else:\n",
        "        return \"Eres menor de edad.\"\n",
        "\n",
        "# Ejemplo de uso\n",
        "edad = int(input(\"Ingresa tu edad: \"))\n",
        "print(verificar_mayoria_edad(edad))"
      ],
      "metadata": {
        "id": "vU9IvUvxzoXv",
        "colab": {
          "base_uri": "https://localhost:8080/"
        },
        "outputId": "59c23dc3-6642-4fc8-dc2b-baf3f961c887"
      },
      "execution_count": null,
      "outputs": [
        {
          "output_type": "stream",
          "name": "stdout",
          "text": [
            "Ingresa tu edad: 45\n",
            "Eres mayor de edad.\n",
            "Ingresa tu edad: 98\n",
            "Eres mayor de edad.\n"
          ]
        }
      ]
    },
    {
      "cell_type": "code",
      "source": [
        "#Defina una funcion que al ingresar su nombre lo salude\n",
        "#posterior al def dentro de dentro de los parentesis colocamos las variables o parametros de la funcipn\n",
        "#finalidzamos\n",
        "def saludar(nombre):\n",
        "  print(\"hola\"+ nombre)\n",
        "saludar(input(\"ingrese su nombre: \"))"
      ],
      "metadata": {
        "colab": {
          "base_uri": "https://localhost:8080/"
        },
        "id": "ycWOja92Olqn",
        "outputId": "509c004e-ac59-472d-8879-aa4bba8fed82"
      },
      "execution_count": null,
      "outputs": [
        {
          "output_type": "stream",
          "name": "stdout",
          "text": [
            "ingrese su nombre: jhon\n",
            "holajhon\n"
          ]
        }
      ]
    },
    {
      "cell_type": "code",
      "source": [
        " #Defina una funcion que al ingresar su nombre lo salude y determine si ud es mayor o menor de edad\n",
        " def saludar(nombre):\n",
        "  print(\"hola  \"+ nombre)\n",
        "saludar(input(\"ingrese su nombre: \"))\n",
        "\n",
        " edad= int(input(\"Por favor ingresa tu edad: \"))\n",
        "if edad < 18 :\n",
        "  print(\"eres menor de edad \")\n",
        "else:\n",
        "  print(\"eres mayor de edad\")"
      ],
      "metadata": {
        "colab": {
          "base_uri": "https://localhost:8080/"
        },
        "id": "WqKNleQBQJNe",
        "outputId": "72973f59-ff71-400a-f16d-4e4ba91b51b2"
      },
      "execution_count": null,
      "outputs": [
        {
          "output_type": "stream",
          "name": "stdout",
          "text": [
            "ingrese su nombre: jhon\n",
            "hola  jhon\n",
            "Por favor ingresa tu edad: 56\n",
            "eres mayor de edad\n"
          ]
        }
      ]
    },
    {
      "cell_type": "code",
      "source": [
        "def saludo_edad(nombre,edad):\n",
        "\n",
        "    if edad >= 0:\n",
        "      if edad<18:\n",
        "        print(f\"Hola {nombre}, eres menor de edad\")\n",
        "      else:\n",
        "        print(f\"Hola {nombre}, eres mayor de edad\")\n",
        "    else:\n",
        "      print(\"La edad ingresada no es valida\")\n",
        "\n",
        "saludo_edad(str(input(\"Ingrese su nombre \")),int(input(\"Ingrese su edad: \")))"
      ],
      "metadata": {
        "colab": {
          "base_uri": "https://localhost:8080/"
        },
        "id": "LxKrmDgNSqYN",
        "outputId": "7a310b97-d8cc-47cb-e759-e12ba59b2d5f"
      },
      "execution_count": null,
      "outputs": [
        {
          "output_type": "stream",
          "name": "stdout",
          "text": [
            "Ingrese su nombre jhon\n",
            "Ingrese su edad: 89\n",
            "Hola jhon, eres mayor de edad\n"
          ]
        }
      ]
    },
    {
      "cell_type": "code",
      "source": [
        "# Función para verificar una contraseña\n",
        "def verificar_contraseña(contraseña_ingresada):\n",
        "    contraseña_predeterminada = \"secreta123\"\n",
        "\n",
        "    if contraseña_ingresada == contraseña_predeterminada:\n",
        "        return \"Contraseña correcta\"\n",
        "    else:\n",
        "        return \"Contraseña incorrecta\"\n",
        "\n",
        "# Solicitar la contraseña al usuario\n",
        "contraseña = input(\"Ingrese la contraseña: \")\n",
        "\n",
        "# Verificar la contraseña y mostrar el resultado\n",
        "resultado = verificar_contraseña(contraseña)\n",
        "print(resultado)\n"
      ],
      "metadata": {
        "colab": {
          "base_uri": "https://localhost:8080/"
        },
        "id": "Wf8yFYpJZtcq",
        "outputId": "16d0ebe3-29b0-4bf0-faa2-a032aa5105de"
      },
      "execution_count": 42,
      "outputs": [
        {
          "output_type": "stream",
          "name": "stdout",
          "text": [
            "Ingrese la contraseña: jghcsb\n",
            "Contraseña incorrecta\n"
          ]
        }
      ]
    }
  ]
}