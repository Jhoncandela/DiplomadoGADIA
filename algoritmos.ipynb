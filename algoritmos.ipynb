{
  "nbformat": 4,
  "nbformat_minor": 0,
  "metadata": {
    "colab": {
      "provenance": [],
      "authorship_tag": "ABX9TyPuzX+nhzBGP/ZpsIU/3Fwk",
      "include_colab_link": true
    },
    "kernelspec": {
      "name": "python3",
      "display_name": "Python 3"
    },
    "language_info": {
      "name": "python"
    }
  },
  "cells": [
    {
      "cell_type": "markdown",
      "metadata": {
        "id": "view-in-github",
        "colab_type": "text"
      },
      "source": [
        "<a href=\"https://colab.research.google.com/github/Jhoncandela/DiplomadoGADIA/blob/main/algoritmos.ipynb\" target=\"_parent\"><img src=\"https://colab.research.google.com/assets/colab-badge.svg\" alt=\"Open In Colab\"/></a>"
      ]
    },
    {
      "cell_type": "markdown",
      "source": [
        "##for\n",
        "##Bucle for El bucle for se utiliza para iterar sobre una secuencia (como una lista, tupla, diccionario, conjunto o cadena de caracteres). Se ejecuta una vez por cada elemento en la secuencia.\n"
      ],
      "metadata": {
        "id": "6g4wFmybbr7E"
      }
    },
    {
      "cell_type": "code",
      "source": [
        "#imprimir todos los numeros de una secuencia de datos\n",
        "\n",
        "secuencia=[1,2,3,4,5,]\n",
        "# se lee mientras la variable i este en la secuencia, haga esto...\n",
        "for i in secuencia:\n",
        "    print(i)"
      ],
      "metadata": {
        "colab": {
          "base_uri": "https://localhost:8080/"
        },
        "id": "ymWSI1f2bt2l",
        "outputId": "6ea9288a-d374-4c43-e9b1-bb9510718263"
      },
      "execution_count": null,
      "outputs": [
        {
          "output_type": "stream",
          "name": "stdout",
          "text": [
            "1\n",
            "2\n",
            "3\n",
            "4\n",
            "5\n"
          ]
        }
      ]
    },
    {
      "cell_type": "code",
      "source": [
        "#clasificar los numeros que son pares de la lisa secuencia\n",
        "for i in secuencia:\n",
        "    if i % 2 == 0:\n",
        "      print(f\"el numero (i) es par \")\n",
        "    else:\n",
        "      print(f\"el numero (i) es impar \")\n"
      ],
      "metadata": {
        "colab": {
          "base_uri": "https://localhost:8080/"
        },
        "id": "A_nvNgXmdR6p",
        "outputId": "de8a2a15-003c-4915-9143-6094a5ac9e41"
      },
      "execution_count": null,
      "outputs": [
        {
          "output_type": "stream",
          "name": "stdout",
          "text": [
            "el numero (i) es impar \n",
            "el numero (i) es par \n",
            "el numero (i) es impar \n",
            "el numero (i) es par \n",
            "el numero (i) es impar \n"
          ]
        }
      ]
    },
    {
      "cell_type": "markdown",
      "source": [
        "\"\"\"# Suma\n",
        "a = 10\n",
        "b = 5\n",
        "print(a + b)  # 15\n",
        "\n",
        "# Resta\n",
        "print(a - b)  # 5\n",
        "\n",
        "# Multiplicación\n",
        "print(a * b)  # 50\n",
        "\n",
        "# División\n",
        "print(a / b)  # 2.0\n",
        "\n",
        "# División entera\n",
        "print(a // b)  # 2\n",
        "\n",
        "# Módulo\n",
        "print(a % b)  # 0\n",
        "\n",
        "# Exponenciación\n",
        "print(a ** b)  # 100000\n",
        "\n",
        "# Asignación compuesta\n",
        "a += b\n",
        "print(a)  # 15\n",
        "\n",
        "# Redondeo\n",
        "c = 3.14159\n",
        "print(round(c, 2))  # 3.14\n",
        "\n",
        "# Valor absoluto\n",
        "d = -10\n",
        "print(abs(d))  # 10\n",
        "\n",
        "# Máximo y mínimo\n",
        "e = [1, 2, 3, 4, 5]\n",
        "print(max(e))  # 5\n",
        "print(min(e))  # 1\n",
        "\n",
        "# Potencia\n",
        "print(pow(2, 3))  # 8\"\"\""
      ],
      "metadata": {
        "id": "GjeoeJeHfUWv"
      }
    },
    {
      "cell_type": "code",
      "source": [
        "#Supongamos que tienes una lista de precios de productos y quieres aplicar un descuento del 10% a cada precio.\n",
        "precio = [100,150,200,250,300]\n",
        "precio_con_descuento = []\n",
        "\n",
        "\n",
        "for i in precio:\n",
        "    nuevo_precio = i*0.9\n",
        "    precio_con_descuento.append(nuevo_precio)\n",
        "    print(f\"Precio full es: {i}, pero con descuento es: {nuevo_precio}\")"
      ],
      "metadata": {
        "colab": {
          "base_uri": "https://localhost:8080/"
        },
        "id": "CVNigOwRfZFm",
        "outputId": "7155a05f-39fd-4450-cf74-72cffe34de5f"
      },
      "execution_count": null,
      "outputs": [
        {
          "output_type": "stream",
          "name": "stdout",
          "text": [
            "Precio full es: 100, pero con descuento es: 90.0\n",
            "Precio full es: 150, pero con descuento es: 135.0\n",
            "Precio full es: 200, pero con descuento es: 180.0\n",
            "Precio full es: 250, pero con descuento es: 225.0\n",
            "Precio full es: 300, pero con descuento es: 270.0\n"
          ]
        }
      ]
    },
    {
      "cell_type": "code",
      "source": [
        "precios_con_descuento"
      ],
      "metadata": {
        "colab": {
          "base_uri": "https://localhost:8080/"
        },
        "id": "eOXP1Jz7kDqV",
        "outputId": "aa8a6bd2-9b6e-4d4d-9d61-650930206a7c"
      },
      "execution_count": null,
      "outputs": [
        {
          "output_type": "execute_result",
          "data": {
            "text/plain": [
              "[]"
            ]
          },
          "metadata": {},
          "execution_count": 24
        }
      ]
    },
    {
      "cell_type": "markdown",
      "source": [
        "##Bucle while El bucle while se utiliza para repetir un bloque de código mientras una condición sea verdadera."
      ],
      "metadata": {
        "id": "OBrBSdmVof-1"
      }
    },
    {
      "cell_type": "code",
      "source": [
        "#si agamoto destruye el planeta estres viene a negociar\n",
        "\n",
        "while #condicion\n",
        "  #codigo a ejecutar"
      ],
      "metadata": {
        "id": "WU_70rrTpWOo"
      },
      "execution_count": null,
      "outputs": []
    },
    {
      "cell_type": "code",
      "source": [
        "pregunta = input(\"¿quieres destruir el planeta?\")\n",
        "while pregunta ==\"si\":\n",
        "        print(\"ven a negociar\")\n"
      ],
      "metadata": {
        "colab": {
          "base_uri": "https://localhost:8080/"
        },
        "id": "cktuAGaMpFR8",
        "outputId": "d89ad764-2c17-483d-aaed-1cfac591fc43"
      },
      "execution_count": null,
      "outputs": [
        {
          "name": "stdout",
          "output_type": "stream",
          "text": [
            "¿quieres destruir el planeta?no\n"
          ]
        }
      ]
    },
    {
      "cell_type": "code",
      "source": [
        "#construir un contador que vaya hasta 5 y cuando la variable tenga este valor, deja de contar\n",
        "contador = 0\n",
        "while contador <5:\n",
        "      print(contador)\n",
        "      contador+=1"
      ],
      "metadata": {
        "colab": {
          "base_uri": "https://localhost:8080/"
        },
        "id": "koEICwoVryL0",
        "outputId": "94fb4e49-be6e-492b-9154-85b56833e82e"
      },
      "execution_count": null,
      "outputs": [
        {
          "output_type": "stream",
          "name": "stdout",
          "text": [
            "0\n",
            "1\n",
            "2\n",
            "3\n",
            "4\n"
          ]
        }
      ]
    },
    {
      "cell_type": "markdown",
      "source": [
        "##supongamos que quieres solicitar a un usuario que ingrese con una contraseña hasta que lo haga correctamente\n",
        "\n"
      ],
      "metadata": {
        "id": "pFVID4B-sqne"
      }
    },
    {
      "cell_type": "code",
      "source": [
        "\"\"\"break: Sale del bucle antes de que se evalúe la condición o se termine de iterar sobre la secuencia.\n",
        "continue: Salta el resto del código dentro del bucle y vuelve a la condición o a la siguiente iteración.\n",
        "else: Se ejecuta una vez cuando el bucle termina, a menos que se haya interrumpido con break.\"\"\"\n"
      ],
      "metadata": {
        "id": "fG_0ar_Hs6la"
      },
      "execution_count": null,
      "outputs": []
    },
    {
      "cell_type": "code",
      "source": [
        "contraseña_correcta=\"S{egura123\"\n",
        "intentos = 3\n",
        "\n",
        "while intentos >0:\n",
        "      contraseña = input(\"Introduce tu contraseña: \")\n",
        "      if contraseña == contraseña_correcta:\n",
        "          print(\"Acceso concedido\")\n",
        "          break\n",
        "      else :\n",
        "          intentos-=1\n",
        "          print(f\"Contraseña incorrecta, te quedan {intentos} intentos\")\n",
        "if intentos == 0:\n",
        "    print(\"Ya no te quedan intentos\")\n"
      ],
      "metadata": {
        "colab": {
          "base_uri": "https://localhost:8080/"
        },
        "id": "_-5gFztxthFJ",
        "outputId": "4d0d537a-f0a2-4dde-8738-63cb2762f331"
      },
      "execution_count": null,
      "outputs": [
        {
          "output_type": "stream",
          "name": "stdout",
          "text": [
            "Introduce tu contraseña: ojo\n",
            "Contraseña incorrecta, te quedan 2 intentos\n",
            "Introduce tu contraseña: \n",
            "Contraseña incorrecta, te quedan 1 intentos\n",
            "Introduce tu contraseña: lkoj\n",
            "Contraseña incorrecta, te quedan 0 intentos\n",
            "Ya no te quedan intentos\n"
          ]
        }
      ]
    },
    {
      "cell_type": "code",
      "source": [
        "\"\"\"Escribe un programa que permita al usuario adivinar un número secreto entre 1 y 10. El programa debe seguir pidiendo al usuario que adivine hasta que acierte.\n",
        "\n",
        "Define un número secreto.\n",
        "Utiliza un bucle while para seguir solicitando adivinanzas al usuario hasta que acierte.\n",
        "Si el usuario adivina el número, imprime un mensaje de felicitación y termina el programa.\"\"\"\n"
      ],
      "metadata": {
        "colab": {
          "base_uri": "https://localhost:8080/",
          "height": 70
        },
        "id": "iQS9mp5BwqDa",
        "outputId": "78874c1a-a775-4925-8e28-6b8f2ddd07f2"
      },
      "execution_count": null,
      "outputs": [
        {
          "output_type": "execute_result",
          "data": {
            "text/plain": [
              "'Escribe un programa que permita al usuario adivinar un número secreto entre 1 y 10. El programa debe seguir pidiendo al usuario que adivine hasta que acierte.\\n \\nDefine un número secreto.\\nUtiliza un bucle while para seguir solicitando adivinanzas al usuario hasta que acierte.\\nSi el usuario adivina el número, imprime un mensaje de felicitación y termina el programa.'"
            ],
            "application/vnd.google.colaboratory.intrinsic+json": {
              "type": "string"
            }
          },
          "metadata": {},
          "execution_count": 43
        }
      ]
    },
    {
      "cell_type": "code",
      "source": [
        "import random\n",
        "\n",
        "# Definir el número secreto\n",
        "numero_secreto = random.randint(1, 10)\n",
        "\n",
        "print(\"Bienvenido al juego de adivinanza\")\n",
        "print(\"Adivina un número entre 1 y 10.\")\n",
        "\n",
        "# Bucle para seguir pidiendo intentos hasta que acierte\n",
        "while True:\n",
        "    try:\n",
        "        numero_ingresado = int(input(\"Introduce tu número: \"))\n",
        "\n",
        "        if numero_ingresado < 1 or numero_ingresado > 10:\n",
        "            print(\"Por favor, introduce un número entre 1 y 10.\")\n",
        "        elif numero_ingresado == numero_secreto:\n",
        "            print(\"¡Felicidades! Has adivinado el número secreto.\")\n",
        "            break  # Termina el bucle si acierta\n",
        "        else:\n",
        "            print(\" Número incorrecto. Intenta de nuevo.\")\n",
        "    except ValueError:\n",
        "        print(\" Entrada no válida. Ingresa un número entero.\")\n",
        "\n",
        "print(\"Gracias por jugar.\")\n",
        "\n"
      ],
      "metadata": {
        "colab": {
          "base_uri": "https://localhost:8080/"
        },
        "id": "2NjV4dBDwuSH",
        "outputId": "8ccdd18d-9434-4b87-9dc7-732a67d04a09"
      },
      "execution_count": null,
      "outputs": [
        {
          "output_type": "stream",
          "name": "stdout",
          "text": [
            "Bienvenido al juego de adivinanza\n",
            "Adivina un número entre 1 y 10.\n",
            "Introduce tu número: 45\n",
            "Por favor, introduce un número entre 1 y 10.\n"
          ]
        }
      ]
    },
    {
      "cell_type": "code",
      "source": [
        "numero_correcto= 6\n",
        "intento=0\n",
        "\n",
        "while intento != numero_correcto:\n",
        "  intento= int(input(\"Ingresa tu numero\"))\n",
        "  if intento >=1 and intento <=10 :\n",
        "    if intento == numero_correcto:\n",
        "      print(f\"Felicidades: {intento} era el numero secreto.\")\n",
        "      break\n",
        "    else:\n",
        "      print(\"Sigue intentando\")\n",
        "  else:\n",
        "    print(\"El numero no esta en el rango permitido\")\n"
      ],
      "metadata": {
        "id": "kGgjpg5ay7wy"
      },
      "execution_count": null,
      "outputs": []
    }
  ]
}